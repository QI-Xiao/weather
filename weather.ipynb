{
 "cells": [
  {
   "cell_type": "code",
   "execution_count": 21,
   "metadata": {},
   "outputs": [],
   "source": [
    "import requests"
   ]
  },
  {
   "cell_type": "code",
   "execution_count": 29,
   "metadata": {},
   "outputs": [
    {
     "name": "stdout",
     "output_type": "stream",
     "text": [
      "请输入城市，回车退出：\n",
      "南京\n",
      "18日星期四\n",
      "高温 31℃\n",
      "低温 26℃\n",
      "阵雨\n",
      "请输入城市，回车退出：\n",
      "召唤师峡谷\n",
      "未获得\n",
      "请输入城市，回车退出：\n",
      "\n"
     ]
    }
   ],
   "source": [
    "while True:\n",
    "    city = input('请输入城市，回车退出：\\n')\n",
    "    if not city:\n",
    "        break\n",
    "        \n",
    "    try:\n",
    "        req = requests.get('http://wthrcdn.etouch.cn/weather_mini?city=%s' %city)\n",
    "    except:\n",
    "        print('查询失败')\n",
    "        break\n",
    "        \n",
    "    dic_city = req.json()\n",
    "    data = dic_city.get('data')\n",
    "    if data:\n",
    "        city_forecast = data['forecast'][0]\n",
    "        print(city_forecast.get('date'))\n",
    "        print(city_forecast.get('high'))    \n",
    "        print(city_forecast.get('low'))    \n",
    "        print(city_forecast.get('type'))\n",
    "    else:\n",
    "        print('未获得')"
   ]
  },
  {
   "cell_type": "code",
   "execution_count": 24,
   "metadata": {},
   "outputs": [
    {
     "name": "stdout",
     "output_type": "stream",
     "text": [
      "<Response [200]>\n"
     ]
    }
   ],
   "source": [
    "print(req)"
   ]
  },
  {
   "cell_type": "code",
   "execution_count": 25,
   "metadata": {},
   "outputs": [
    {
     "name": "stdout",
     "output_type": "stream",
     "text": [
      "{\"data\":{\"yesterday\":{\"date\":\"17日星期三\",\"high\":\"高温 29℃\",\"fx\":\"北风\",\"low\":\"低温 23℃\",\"fl\":\"<![CDATA[<3级]]>\",\"type\":\"雷阵雨\"},\"city\":\"北京\",\"forecast\":[{\"date\":\"18日星期四\",\"high\":\"高温 31℃\",\"fengli\":\"<![CDATA[<3级]]>\",\"low\":\"低温 24℃\",\"fengxiang\":\"东北风\",\"type\":\"多云\"},{\"date\":\"19日星期五\",\"high\":\"高温 33℃\",\"fengli\":\"<![CDATA[<3级]]>\",\"low\":\"低温 25℃\",\"fengxiang\":\"东南风\",\"type\":\"多云\"},{\"date\":\"20日星期六\",\"high\":\"高温 29℃\",\"fengli\":\"<![CDATA[<3级]]>\",\"low\":\"低温 24℃\",\"fengxiang\":\"东北风\",\"type\":\"雷阵雨\"},{\"date\":\"21日星期天\",\"high\":\"高温 34℃\",\"fengli\":\"<![CDATA[<3级]]>\",\"low\":\"低温 25℃\",\"fengxiang\":\"西南风\",\"type\":\"多云\"},{\"date\":\"22日星期一\",\"high\":\"高温 30℃\",\"fengli\":\"<![CDATA[<3级]]>\",\"low\":\"低温 23℃\",\"fengxiang\":\"北风\",\"type\":\"雷阵雨\"}],\"ganmao\":\"各项气象条件适宜，发生感冒机率较低。但请避免长期处于空调房间中，以防感冒。\",\"wendu\":\"27\"},\"status\":1000,\"desc\":\"OK\"}\n"
     ]
    }
   ],
   "source": [
    "print(req.text)"
   ]
  },
  {
   "cell_type": "code",
   "execution_count": 26,
   "metadata": {},
   "outputs": [
    {
     "name": "stdout",
     "output_type": "stream",
     "text": [
      "{'data': {'yesterday': {'date': '17日星期三', 'high': '高温 29℃', 'fx': '北风', 'low': '低温 23℃', 'fl': '<![CDATA[<3级]]>', 'type': '雷阵雨'}, 'city': '北京', 'forecast': [{'date': '18日星期四', 'high': '高温 31℃', 'fengli': '<![CDATA[<3级]]>', 'low': '低温 24℃', 'fengxiang': '东北风', 'type': '多云'}, {'date': '19日星期五', 'high': '高温 33℃', 'fengli': '<![CDATA[<3级]]>', 'low': '低温 25℃', 'fengxiang': '东南风', 'type': '多云'}, {'date': '20日星期六', 'high': '高温 29℃', 'fengli': '<![CDATA[<3级]]>', 'low': '低温 24℃', 'fengxiang': '东北风', 'type': '雷阵雨'}, {'date': '21日星期天', 'high': '高温 34℃', 'fengli': '<![CDATA[<3级]]>', 'low': '低温 25℃', 'fengxiang': '西南风', 'type': '多云'}, {'date': '22日星期一', 'high': '高温 30℃', 'fengli': '<![CDATA[<3级]]>', 'low': '低温 23℃', 'fengxiang': '北风', 'type': '雷阵雨'}], 'ganmao': '各项气象条件适宜，发生感冒机率较低。但请避免长期处于空调房间中，以防感冒。', 'wendu': '27'}, 'status': 1000, 'desc': 'OK'}\n"
     ]
    }
   ],
   "source": [
    "print(req.json())"
   ]
  },
  {
   "cell_type": "code",
   "execution_count": 28,
   "metadata": {},
   "outputs": [
    {
     "name": "stdout",
     "output_type": "stream",
     "text": [
      "<class 'str'> <class 'dict'>\n"
     ]
    }
   ],
   "source": [
    "print(type(req.text),type(req.json()))"
   ]
  },
  {
   "cell_type": "code",
   "execution_count": null,
   "metadata": {},
   "outputs": [],
   "source": []
  }
 ],
 "metadata": {
  "kernelspec": {
   "display_name": "Python 3",
   "language": "python",
   "name": "python3"
  },
  "language_info": {
   "codemirror_mode": {
    "name": "ipython",
    "version": 3
   },
   "file_extension": ".py",
   "mimetype": "text/x-python",
   "name": "python",
   "nbconvert_exporter": "python",
   "pygments_lexer": "ipython3",
   "version": "3.7.3"
  }
 },
 "nbformat": 4,
 "nbformat_minor": 2
}
